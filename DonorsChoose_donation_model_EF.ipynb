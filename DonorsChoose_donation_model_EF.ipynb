{
 "cells": [
  {
   "cell_type": "markdown",
   "metadata": {},
   "source": [
    "### Hypothesis: the ratio of 'time since posting' to 'percent of goal completed' has to be close to or below 1/1 in order to attract donations\n",
    "#### possibility: donation probability may be best when the ratio is close to 1/1 than at <<1/1"
   ]
  },
  {
   "cell_type": "code",
   "execution_count": 1,
   "metadata": {},
   "outputs": [],
   "source": [
    "import scipy as sp\n",
    "import scipy.io\n",
    "from scipy import stats\n",
    "import os\n",
    "import numpy as np\n",
    "import pandas as pd\n",
    "import geopandas as gpd\n",
    "import glob\n",
    "import csv\n",
    "from tqdm import tnrange, tqdm_notebook\n",
    "from collections import Iterable\n",
    "import matplotlib.pylab as plt\n",
    "import matplotlib.patches as patch\n",
    "from matplotlib import gridspec\n",
    "from datetime import datetime, timedelta\n",
    "from tqdm import tqdm"
   ]
  },
  {
   "cell_type": "code",
   "execution_count": 2,
   "metadata": {},
   "outputs": [],
   "source": [
    "plt.style.use('seaborn-white')\n",
    "plt.close('all')\n",
    "font = {'family' : 'Arial',\n",
    "        'weight' : 'normal',\n",
    "        'size'   : 14}\n",
    "plt.rc('font', **font)\n",
    "plt.rc('xtick', labelsize=14) \n",
    "plt.rc('ytick', labelsize=14)\n",
    "plt.rc('axes', labelsize=14)\n",
    "plt.rcParams['pdf.fonttype'] = 42\n",
    "plt.rcParams['ps.fonttype'] = 42\n",
    "size_mult = 1"
   ]
  },
  {
   "cell_type": "markdown",
   "metadata": {},
   "source": [
    "### Load relevant DonorsChoose data"
   ]
  },
  {
   "cell_type": "code",
   "execution_count": 3,
   "metadata": {},
   "outputs": [],
   "source": [
    "projects_df = pd.read_csv('Projects.csv')\n",
    "donations_df = pd.read_csv('Donations.csv')"
   ]
  },
  {
   "cell_type": "code",
   "execution_count": 4,
   "metadata": {},
   "outputs": [
    {
     "name": "stdout",
     "output_type": "stream",
     "text": [
      "<class 'pandas.core.frame.DataFrame'>\n",
      "RangeIndex: 1110017 entries, 0 to 1110016\n",
      "Data columns (total 18 columns):\n",
      "Project ID                          1110017 non-null object\n",
      "School ID                           1110017 non-null object\n",
      "Teacher ID                          1110017 non-null object\n",
      "Teacher Project Posted Sequence     1110017 non-null int64\n",
      "Project Type                        1110017 non-null object\n",
      "Project Title                       1110011 non-null object\n",
      "Project Essay                       1110016 non-null object\n",
      "Project Short Description           1110014 non-null object\n",
      "Project Need Statement              1110014 non-null object\n",
      "Project Subject Category Tree       1109988 non-null object\n",
      "Project Subject Subcategory Tree    1109988 non-null object\n",
      "Project Grade Level Category        1110017 non-null object\n",
      "Project Resource Category           1109981 non-null object\n",
      "Project Cost                        1110017 non-null float64\n",
      "Project Posted Date                 1110017 non-null object\n",
      "Project Expiration Date             1110003 non-null object\n",
      "Project Current Status              1110017 non-null object\n",
      "Project Fully Funded Date           826764 non-null object\n",
      "dtypes: float64(1), int64(1), object(16)\n",
      "memory usage: 152.4+ MB\n"
     ]
    }
   ],
   "source": [
    "projects_df.info()"
   ]
  },
  {
   "cell_type": "code",
   "execution_count": 5,
   "metadata": {},
   "outputs": [
    {
     "name": "stdout",
     "output_type": "stream",
     "text": [
      "<class 'pandas.core.frame.DataFrame'>\n",
      "RangeIndex: 1110017 entries, 0 to 1110016\n",
      "Data columns (total 18 columns):\n",
      "Project ID                          1110017 non-null object\n",
      "School ID                           1110017 non-null object\n",
      "Teacher ID                          1110017 non-null object\n",
      "Teacher Project Posted Sequence     1110017 non-null int64\n",
      "Project Type                        1110017 non-null object\n",
      "Project Title                       1110011 non-null object\n",
      "Project Essay                       1110016 non-null object\n",
      "Project Short Description           1110014 non-null object\n",
      "Project Need Statement              1110014 non-null object\n",
      "Project Subject Category Tree       1109988 non-null object\n",
      "Project Subject Subcategory Tree    1109988 non-null object\n",
      "Project Grade Level Category        1110017 non-null object\n",
      "Project Resource Category           1109981 non-null object\n",
      "Project Cost                        1110017 non-null float64\n",
      "Project Posted Date                 1110017 non-null object\n",
      "Project Expiration Date             1110003 non-null object\n",
      "Project Current Status              1110017 non-null object\n",
      "Project Fully Funded Date           826764 non-null object\n",
      "dtypes: float64(1), int64(1), object(16)\n",
      "memory usage: 152.4+ MB\n"
     ]
    }
   ],
   "source": [
    "projects_df.info()"
   ]
  },
  {
   "cell_type": "code",
   "execution_count": 6,
   "metadata": {},
   "outputs": [
    {
     "data": {
      "text/html": [
       "<div>\n",
       "<style scoped>\n",
       "    .dataframe tbody tr th:only-of-type {\n",
       "        vertical-align: middle;\n",
       "    }\n",
       "\n",
       "    .dataframe tbody tr th {\n",
       "        vertical-align: top;\n",
       "    }\n",
       "\n",
       "    .dataframe thead th {\n",
       "        text-align: right;\n",
       "    }\n",
       "</style>\n",
       "<table border=\"1\" class=\"dataframe\">\n",
       "  <thead>\n",
       "    <tr style=\"text-align: right;\">\n",
       "      <th></th>\n",
       "      <th>Project ID</th>\n",
       "      <th>School ID</th>\n",
       "      <th>Teacher ID</th>\n",
       "      <th>Teacher Project Posted Sequence</th>\n",
       "      <th>Project Type</th>\n",
       "      <th>Project Title</th>\n",
       "      <th>Project Essay</th>\n",
       "      <th>Project Short Description</th>\n",
       "      <th>Project Need Statement</th>\n",
       "      <th>Project Subject Category Tree</th>\n",
       "      <th>Project Subject Subcategory Tree</th>\n",
       "      <th>Project Grade Level Category</th>\n",
       "      <th>Project Resource Category</th>\n",
       "      <th>Project Cost</th>\n",
       "      <th>Project Posted Date</th>\n",
       "      <th>Project Expiration Date</th>\n",
       "      <th>Project Current Status</th>\n",
       "      <th>Project Fully Funded Date</th>\n",
       "    </tr>\n",
       "  </thead>\n",
       "  <tbody>\n",
       "    <tr>\n",
       "      <th>0</th>\n",
       "      <td>7685f0265a19d7b52a470ee4bac883ba</td>\n",
       "      <td>e180c7424cb9c68cb49f141b092a988f</td>\n",
       "      <td>4ee5200e89d9e2998ec8baad8a3c5968</td>\n",
       "      <td>25</td>\n",
       "      <td>Teacher-Led</td>\n",
       "      <td>Stand Up to Bullying: Together We Can!</td>\n",
       "      <td>Did you know that 1-7 students in grades K-12 ...</td>\n",
       "      <td>Did you know that 1-7 students in grades K-12 ...</td>\n",
       "      <td>My students need 25 copies of \"Bullying in Sch...</td>\n",
       "      <td>Applied Learning</td>\n",
       "      <td>Character Education, Early Development</td>\n",
       "      <td>Grades PreK-2</td>\n",
       "      <td>Technology</td>\n",
       "      <td>361.80</td>\n",
       "      <td>2013-01-01</td>\n",
       "      <td>2013-05-30</td>\n",
       "      <td>Fully Funded</td>\n",
       "      <td>2013-01-11</td>\n",
       "    </tr>\n",
       "    <tr>\n",
       "      <th>1</th>\n",
       "      <td>f9f4af7099061fb4bf44642a03e5c331</td>\n",
       "      <td>08b20f1e2125103ed7aa17e8d76c71d4</td>\n",
       "      <td>cca2d1d277fb4adb50147b49cdc3b156</td>\n",
       "      <td>3</td>\n",
       "      <td>Teacher-Led</td>\n",
       "      <td>Learning in Color!</td>\n",
       "      <td>Help us have a fun, interactive listening cent...</td>\n",
       "      <td>Help us have a fun, interactive listening cent...</td>\n",
       "      <td>My students need a listening center, read alon...</td>\n",
       "      <td>Applied Learning, Literacy &amp; Language</td>\n",
       "      <td>Early Development, Literacy</td>\n",
       "      <td>Grades PreK-2</td>\n",
       "      <td>Technology</td>\n",
       "      <td>512.85</td>\n",
       "      <td>2013-01-01</td>\n",
       "      <td>2013-05-31</td>\n",
       "      <td>Expired</td>\n",
       "      <td>NaN</td>\n",
       "    </tr>\n",
       "    <tr>\n",
       "      <th>2</th>\n",
       "      <td>afd99a01739ad5557b51b1ba0174e832</td>\n",
       "      <td>1287f5128b1f36bf8434e5705a7cc04d</td>\n",
       "      <td>6c5bd0d4f20547a001628aefd71de89e</td>\n",
       "      <td>1</td>\n",
       "      <td>Teacher-Led</td>\n",
       "      <td>Help Second Grade ESL Students Develop Languag...</td>\n",
       "      <td>Visiting or moving to a new place can be very ...</td>\n",
       "      <td>Visiting or moving to a new place can be very ...</td>\n",
       "      <td>My students need beginning vocabulary audio ca...</td>\n",
       "      <td>Literacy &amp; Language</td>\n",
       "      <td>ESL</td>\n",
       "      <td>Grades PreK-2</td>\n",
       "      <td>Supplies</td>\n",
       "      <td>435.92</td>\n",
       "      <td>2013-01-01</td>\n",
       "      <td>2013-05-30</td>\n",
       "      <td>Fully Funded</td>\n",
       "      <td>2013-05-22</td>\n",
       "    </tr>\n",
       "  </tbody>\n",
       "</table>\n",
       "</div>"
      ],
      "text/plain": [
       "                         Project ID                         School ID  \\\n",
       "0  7685f0265a19d7b52a470ee4bac883ba  e180c7424cb9c68cb49f141b092a988f   \n",
       "1  f9f4af7099061fb4bf44642a03e5c331  08b20f1e2125103ed7aa17e8d76c71d4   \n",
       "2  afd99a01739ad5557b51b1ba0174e832  1287f5128b1f36bf8434e5705a7cc04d   \n",
       "\n",
       "                         Teacher ID  Teacher Project Posted Sequence  \\\n",
       "0  4ee5200e89d9e2998ec8baad8a3c5968                               25   \n",
       "1  cca2d1d277fb4adb50147b49cdc3b156                                3   \n",
       "2  6c5bd0d4f20547a001628aefd71de89e                                1   \n",
       "\n",
       "  Project Type                                      Project Title  \\\n",
       "0  Teacher-Led             Stand Up to Bullying: Together We Can!   \n",
       "1  Teacher-Led                                 Learning in Color!   \n",
       "2  Teacher-Led  Help Second Grade ESL Students Develop Languag...   \n",
       "\n",
       "                                       Project Essay  \\\n",
       "0  Did you know that 1-7 students in grades K-12 ...   \n",
       "1  Help us have a fun, interactive listening cent...   \n",
       "2  Visiting or moving to a new place can be very ...   \n",
       "\n",
       "                           Project Short Description  \\\n",
       "0  Did you know that 1-7 students in grades K-12 ...   \n",
       "1  Help us have a fun, interactive listening cent...   \n",
       "2  Visiting or moving to a new place can be very ...   \n",
       "\n",
       "                              Project Need Statement  \\\n",
       "0  My students need 25 copies of \"Bullying in Sch...   \n",
       "1  My students need a listening center, read alon...   \n",
       "2  My students need beginning vocabulary audio ca...   \n",
       "\n",
       "           Project Subject Category Tree  \\\n",
       "0                       Applied Learning   \n",
       "1  Applied Learning, Literacy & Language   \n",
       "2                    Literacy & Language   \n",
       "\n",
       "         Project Subject Subcategory Tree Project Grade Level Category  \\\n",
       "0  Character Education, Early Development                Grades PreK-2   \n",
       "1             Early Development, Literacy                Grades PreK-2   \n",
       "2                                     ESL                Grades PreK-2   \n",
       "\n",
       "  Project Resource Category  Project Cost Project Posted Date  \\\n",
       "0                Technology        361.80          2013-01-01   \n",
       "1                Technology        512.85          2013-01-01   \n",
       "2                  Supplies        435.92          2013-01-01   \n",
       "\n",
       "  Project Expiration Date Project Current Status Project Fully Funded Date  \n",
       "0              2013-05-30           Fully Funded                2013-01-11  \n",
       "1              2013-05-31                Expired                       NaN  \n",
       "2              2013-05-30           Fully Funded                2013-05-22  "
      ]
     },
     "metadata": {},
     "output_type": "display_data"
    },
    {
     "data": {
      "text/html": [
       "<div>\n",
       "<style scoped>\n",
       "    .dataframe tbody tr th:only-of-type {\n",
       "        vertical-align: middle;\n",
       "    }\n",
       "\n",
       "    .dataframe tbody tr th {\n",
       "        vertical-align: top;\n",
       "    }\n",
       "\n",
       "    .dataframe thead th {\n",
       "        text-align: right;\n",
       "    }\n",
       "</style>\n",
       "<table border=\"1\" class=\"dataframe\">\n",
       "  <thead>\n",
       "    <tr style=\"text-align: right;\">\n",
       "      <th></th>\n",
       "      <th>Project ID</th>\n",
       "      <th>Donation ID</th>\n",
       "      <th>Donor ID</th>\n",
       "      <th>Donation Included Optional Donation</th>\n",
       "      <th>Donation Amount</th>\n",
       "      <th>Donor Cart Sequence</th>\n",
       "      <th>Donation Received Date</th>\n",
       "    </tr>\n",
       "  </thead>\n",
       "  <tbody>\n",
       "    <tr>\n",
       "      <th>0</th>\n",
       "      <td>000009891526c0ade7180f8423792063</td>\n",
       "      <td>688729120858666221208529ee3fc18e</td>\n",
       "      <td>1f4b5b6e68445c6c4a0509b3aca93f38</td>\n",
       "      <td>No</td>\n",
       "      <td>178.37</td>\n",
       "      <td>11</td>\n",
       "      <td>2016-08-23 13:15:57</td>\n",
       "    </tr>\n",
       "    <tr>\n",
       "      <th>1</th>\n",
       "      <td>000009891526c0ade7180f8423792063</td>\n",
       "      <td>dcf1071da3aa3561f91ac689d1f73dee</td>\n",
       "      <td>4aaab6d244bf3599682239ed5591af8a</td>\n",
       "      <td>Yes</td>\n",
       "      <td>25.00</td>\n",
       "      <td>2</td>\n",
       "      <td>2016-06-06 20:05:23</td>\n",
       "    </tr>\n",
       "    <tr>\n",
       "      <th>2</th>\n",
       "      <td>000009891526c0ade7180f8423792063</td>\n",
       "      <td>18a234b9d1e538c431761d521ea7799d</td>\n",
       "      <td>0b0765dc9c759adc48a07688ba25e94e</td>\n",
       "      <td>Yes</td>\n",
       "      <td>20.00</td>\n",
       "      <td>3</td>\n",
       "      <td>2016-06-06 14:08:46</td>\n",
       "    </tr>\n",
       "    <tr>\n",
       "      <th>3</th>\n",
       "      <td>000009891526c0ade7180f8423792063</td>\n",
       "      <td>38d2744bf9138b0b57ed581c76c0e2da</td>\n",
       "      <td>377944ad61f72d800b25ec1862aec363</td>\n",
       "      <td>Yes</td>\n",
       "      <td>25.00</td>\n",
       "      <td>1</td>\n",
       "      <td>2016-05-15 10:23:04</td>\n",
       "    </tr>\n",
       "    <tr>\n",
       "      <th>4</th>\n",
       "      <td>000009891526c0ade7180f8423792063</td>\n",
       "      <td>5a032791e31167a70206bfb86fb60035</td>\n",
       "      <td>6d5b22d39e68c656071a842732c63a0c</td>\n",
       "      <td>Yes</td>\n",
       "      <td>25.00</td>\n",
       "      <td>2</td>\n",
       "      <td>2016-05-17 01:23:38</td>\n",
       "    </tr>\n",
       "    <tr>\n",
       "      <th>5</th>\n",
       "      <td>000009891526c0ade7180f8423792063</td>\n",
       "      <td>8cea27f0cc03f41f66aab96b284ae6a1</td>\n",
       "      <td>896c75c9b8d9a91c759746e566cd3f37</td>\n",
       "      <td>Yes</td>\n",
       "      <td>15.00</td>\n",
       "      <td>1</td>\n",
       "      <td>2016-06-04 17:58:55</td>\n",
       "    </tr>\n",
       "    <tr>\n",
       "      <th>6</th>\n",
       "      <td>00000ce845c00cbf0686c992fc369df4</td>\n",
       "      <td>39af862cb04e4f938e5b827236a610a6</td>\n",
       "      <td>8a1875762c85932fff192ea126ccdff2</td>\n",
       "      <td>Yes</td>\n",
       "      <td>50.00</td>\n",
       "      <td>1</td>\n",
       "      <td>2013-02-27 09:07:51</td>\n",
       "    </tr>\n",
       "    <tr>\n",
       "      <th>7</th>\n",
       "      <td>00000ce845c00cbf0686c992fc369df4</td>\n",
       "      <td>c47f78571f62bcf10eee6a46a4a8a85d</td>\n",
       "      <td>a3f070e439d52de72ca62dc41f9b16a4</td>\n",
       "      <td>Yes</td>\n",
       "      <td>50.00</td>\n",
       "      <td>2</td>\n",
       "      <td>2013-02-27 09:53:12</td>\n",
       "    </tr>\n",
       "    <tr>\n",
       "      <th>8</th>\n",
       "      <td>00000ce845c00cbf0686c992fc369df4</td>\n",
       "      <td>19351e1d9ae0bccab31b1f6009ad47a3</td>\n",
       "      <td>bd323208dc78b1c74b62664b768f3176</td>\n",
       "      <td>Yes</td>\n",
       "      <td>200.00</td>\n",
       "      <td>2</td>\n",
       "      <td>2013-02-17 21:36:24</td>\n",
       "    </tr>\n",
       "    <tr>\n",
       "      <th>9</th>\n",
       "      <td>00000ce845c00cbf0686c992fc369df4</td>\n",
       "      <td>d5364b1bb3b14594808bd6efa7544165</td>\n",
       "      <td>6dd6113f89f2766d3b0707ef2a46260c</td>\n",
       "      <td>Yes</td>\n",
       "      <td>10.00</td>\n",
       "      <td>44</td>\n",
       "      <td>2013-02-27 10:32:22</td>\n",
       "    </tr>\n",
       "    <tr>\n",
       "      <th>10</th>\n",
       "      <td>00000ce845c00cbf0686c992fc369df4</td>\n",
       "      <td>84d4bd0c34c8c28f9e0121118c24360f</td>\n",
       "      <td>391f14831940fc7bc41df2cd7fb06030</td>\n",
       "      <td>Yes</td>\n",
       "      <td>100.00</td>\n",
       "      <td>1</td>\n",
       "      <td>2013-02-27 09:55:18</td>\n",
       "    </tr>\n",
       "    <tr>\n",
       "      <th>11</th>\n",
       "      <td>00000ce845c00cbf0686c992fc369df4</td>\n",
       "      <td>987eecef69373f0d7ee9238652521fb2</td>\n",
       "      <td>531ed26f1a505282337e0d805be97281</td>\n",
       "      <td>Yes</td>\n",
       "      <td>25.00</td>\n",
       "      <td>1</td>\n",
       "      <td>2013-02-27 09:57:57</td>\n",
       "    </tr>\n",
       "  </tbody>\n",
       "</table>\n",
       "</div>"
      ],
      "text/plain": [
       "                          Project ID                       Donation ID  \\\n",
       "0   000009891526c0ade7180f8423792063  688729120858666221208529ee3fc18e   \n",
       "1   000009891526c0ade7180f8423792063  dcf1071da3aa3561f91ac689d1f73dee   \n",
       "2   000009891526c0ade7180f8423792063  18a234b9d1e538c431761d521ea7799d   \n",
       "3   000009891526c0ade7180f8423792063  38d2744bf9138b0b57ed581c76c0e2da   \n",
       "4   000009891526c0ade7180f8423792063  5a032791e31167a70206bfb86fb60035   \n",
       "5   000009891526c0ade7180f8423792063  8cea27f0cc03f41f66aab96b284ae6a1   \n",
       "6   00000ce845c00cbf0686c992fc369df4  39af862cb04e4f938e5b827236a610a6   \n",
       "7   00000ce845c00cbf0686c992fc369df4  c47f78571f62bcf10eee6a46a4a8a85d   \n",
       "8   00000ce845c00cbf0686c992fc369df4  19351e1d9ae0bccab31b1f6009ad47a3   \n",
       "9   00000ce845c00cbf0686c992fc369df4  d5364b1bb3b14594808bd6efa7544165   \n",
       "10  00000ce845c00cbf0686c992fc369df4  84d4bd0c34c8c28f9e0121118c24360f   \n",
       "11  00000ce845c00cbf0686c992fc369df4  987eecef69373f0d7ee9238652521fb2   \n",
       "\n",
       "                            Donor ID Donation Included Optional Donation  \\\n",
       "0   1f4b5b6e68445c6c4a0509b3aca93f38                                  No   \n",
       "1   4aaab6d244bf3599682239ed5591af8a                                 Yes   \n",
       "2   0b0765dc9c759adc48a07688ba25e94e                                 Yes   \n",
       "3   377944ad61f72d800b25ec1862aec363                                 Yes   \n",
       "4   6d5b22d39e68c656071a842732c63a0c                                 Yes   \n",
       "5   896c75c9b8d9a91c759746e566cd3f37                                 Yes   \n",
       "6   8a1875762c85932fff192ea126ccdff2                                 Yes   \n",
       "7   a3f070e439d52de72ca62dc41f9b16a4                                 Yes   \n",
       "8   bd323208dc78b1c74b62664b768f3176                                 Yes   \n",
       "9   6dd6113f89f2766d3b0707ef2a46260c                                 Yes   \n",
       "10  391f14831940fc7bc41df2cd7fb06030                                 Yes   \n",
       "11  531ed26f1a505282337e0d805be97281                                 Yes   \n",
       "\n",
       "    Donation Amount  Donor Cart Sequence Donation Received Date  \n",
       "0            178.37                   11    2016-08-23 13:15:57  \n",
       "1             25.00                    2    2016-06-06 20:05:23  \n",
       "2             20.00                    3    2016-06-06 14:08:46  \n",
       "3             25.00                    1    2016-05-15 10:23:04  \n",
       "4             25.00                    2    2016-05-17 01:23:38  \n",
       "5             15.00                    1    2016-06-04 17:58:55  \n",
       "6             50.00                    1    2013-02-27 09:07:51  \n",
       "7             50.00                    2    2013-02-27 09:53:12  \n",
       "8            200.00                    2    2013-02-17 21:36:24  \n",
       "9             10.00                   44    2013-02-27 10:32:22  \n",
       "10           100.00                    1    2013-02-27 09:55:18  \n",
       "11            25.00                    1    2013-02-27 09:57:57  "
      ]
     },
     "metadata": {},
     "output_type": "display_data"
    }
   ],
   "source": [
    "display(projects_df.head(3))\n",
    "display(donations_df.head(12))"
   ]
  },
  {
   "cell_type": "markdown",
   "metadata": {},
   "source": [
    "### Subset data to only include projects that have been fully funded or expired\n",
    "##### Projects expire 4 months after posting if not fully funded. Fill in these dates for expired projects"
   ]
  },
  {
   "cell_type": "code",
   "execution_count": 7,
   "metadata": {},
   "outputs": [],
   "source": [
    "finished_projects_df = projects_df[projects_df['Project Current Status'].str.contains('Fully Funded|Expired')].copy()\n",
    "\n",
    "###convert date columns to datetime\n",
    "rel_date_cols = ['Project Posted Date', 'Project Fully Funded Date', 'Project Expiration Date']\n",
    "finished_projects_df[rel_date_cols] = finished_projects_df[rel_date_cols].apply(pd.to_datetime)\n",
    "\n",
    "#### a few 'Project Expiration Date' are empty - fill in with 'Project posted date' + 4 months\n",
    "nulls = finished_projects_df['Project Expiration Date'].isnull()\n",
    "finished_projects_df.loc[nulls, 'Project Expiration Date'] = finished_projects_df.loc[nulls, 'Project Posted Date'] + pd.DateOffset(months = 4)\n",
    "\n",
    "### fill in 'project end date' for projects that expired with 'Project expiration date'\n",
    "expired = finished_projects_df['Project Fully Funded Date'].isnull()\n",
    "finished_projects_df.loc[expired, 'Project Fully Funded Date'] = finished_projects_df.loc[expired, 'Project Expiration Date']\n",
    "finished_projects_df = finished_projects_df.rename(columns = {'Project Fully Funded Date':'Project End'})\n",
    "\n",
    "### certain projects did not have a valid expiration date - fill those in with posting date + 4 months\n",
    "nulls = finished_projects_df['Project End'].isnull()\n",
    "finished_projects_df.loc[nulls, 'Project End'] = finished_projects_df.loc[nulls, 'Project Posted Date'] + pd.DateOffset(months = 4)\n",
    "finished_projects_df['Days Open'] = ((finished_projects_df['Project End'] - finished_projects_df['Project Posted Date'])/ np.timedelta64(1, 'D')).astype(int)\n",
    "\n",
    "### remove projects that have expiration dates that precede posting date (data entry error?)\n",
    "finished_projects_df = finished_projects_df[finished_projects_df['Days Open']>0]\n",
    "\n",
    "finished_projects_df= finished_projects_df.reset_index(drop = True)\n"
   ]
  },
  {
   "cell_type": "code",
   "execution_count": 8,
   "metadata": {},
   "outputs": [],
   "source": [
    "# finished_projects_df = finished_projects_df[100000:200000] #subset for faster prototyping"
   ]
  },
  {
   "cell_type": "markdown",
   "metadata": {},
   "source": [
    "### Need to restructure data such that each row represents one donation for a given project"
   ]
  },
  {
   "cell_type": "code",
   "execution_count": 9,
   "metadata": {},
   "outputs": [
    {
     "data": {
      "text/html": [
       "<div>\n",
       "<style scoped>\n",
       "    .dataframe tbody tr th:only-of-type {\n",
       "        vertical-align: middle;\n",
       "    }\n",
       "\n",
       "    .dataframe tbody tr th {\n",
       "        vertical-align: top;\n",
       "    }\n",
       "\n",
       "    .dataframe thead th {\n",
       "        text-align: right;\n",
       "    }\n",
       "</style>\n",
       "<table border=\"1\" class=\"dataframe\">\n",
       "  <thead>\n",
       "    <tr style=\"text-align: right;\">\n",
       "      <th></th>\n",
       "      <th>Project ID</th>\n",
       "      <th>Donation Received Date</th>\n",
       "      <th>Donation Amount</th>\n",
       "    </tr>\n",
       "  </thead>\n",
       "  <tbody>\n",
       "    <tr>\n",
       "      <th>0</th>\n",
       "      <td>000009891526c0ade7180f8423792063</td>\n",
       "      <td>2016-08-23</td>\n",
       "      <td>178.37</td>\n",
       "    </tr>\n",
       "    <tr>\n",
       "      <th>1</th>\n",
       "      <td>000009891526c0ade7180f8423792063</td>\n",
       "      <td>2016-06-06</td>\n",
       "      <td>25.00</td>\n",
       "    </tr>\n",
       "    <tr>\n",
       "      <th>2</th>\n",
       "      <td>000009891526c0ade7180f8423792063</td>\n",
       "      <td>2016-06-06</td>\n",
       "      <td>20.00</td>\n",
       "    </tr>\n",
       "    <tr>\n",
       "      <th>3</th>\n",
       "      <td>000009891526c0ade7180f8423792063</td>\n",
       "      <td>2016-05-15</td>\n",
       "      <td>25.00</td>\n",
       "    </tr>\n",
       "    <tr>\n",
       "      <th>4</th>\n",
       "      <td>000009891526c0ade7180f8423792063</td>\n",
       "      <td>2016-05-17</td>\n",
       "      <td>25.00</td>\n",
       "    </tr>\n",
       "  </tbody>\n",
       "</table>\n",
       "</div>"
      ],
      "text/plain": [
       "                         Project ID Donation Received Date  Donation Amount\n",
       "0  000009891526c0ade7180f8423792063             2016-08-23           178.37\n",
       "1  000009891526c0ade7180f8423792063             2016-06-06            25.00\n",
       "2  000009891526c0ade7180f8423792063             2016-06-06            20.00\n",
       "3  000009891526c0ade7180f8423792063             2016-05-15            25.00\n",
       "4  000009891526c0ade7180f8423792063             2016-05-17            25.00"
      ]
     },
     "execution_count": 9,
     "metadata": {},
     "output_type": "execute_result"
    }
   ],
   "source": [
    "proj_don_df = donations_df[['Project ID', 'Donation Received Date', 'Donation Amount']\n",
    "                             ].merge(finished_projects_df[['Project ID']], how = 'inner', on = ['Project ID'])\n",
    "proj_don_df['Donation Received Date'] = pd.to_datetime(pd.to_datetime(proj_don_df['Donation Received Date']).dt.date)\n",
    "proj_don_df.head()"
   ]
  },
  {
   "cell_type": "code",
   "execution_count": 10,
   "metadata": {},
   "outputs": [
    {
     "name": "stdout",
     "output_type": "stream",
     "text": [
      "<class 'pandas.core.frame.DataFrame'>\n",
      "Int64Index: 4410411 entries, 0 to 4410410\n",
      "Data columns (total 3 columns):\n",
      "Project ID                4410411 non-null object\n",
      "Donation Received Date    4410411 non-null datetime64[ns]\n",
      "Donation Amount           4410411 non-null float64\n",
      "dtypes: datetime64[ns](1), float64(1), object(1)\n",
      "memory usage: 134.6+ MB\n"
     ]
    }
   ],
   "source": [
    "proj_don_df.info(null_counts = True)"
   ]
  },
  {
   "cell_type": "markdown",
   "metadata": {},
   "source": [
    "#### Add back descriptive project features for each donation"
   ]
  },
  {
   "cell_type": "code",
   "execution_count": 11,
   "metadata": {},
   "outputs": [
    {
     "name": "stdout",
     "output_type": "stream",
     "text": [
      "<class 'pandas.core.frame.DataFrame'>\n",
      "RangeIndex: 4410413 entries, 0 to 4410412\n",
      "Data columns (total 9 columns):\n",
      "Project ID                 4410413 non-null object\n",
      "Donation Received Date     4410413 non-null datetime64[ns]\n",
      "Donation Amount            4410413 non-null float64\n",
      "Project Posted Date        4410413 non-null datetime64[ns]\n",
      "Project Cost               4410413 non-null float64\n",
      "Project Current Status     4410413 non-null object\n",
      "Project End                4410413 non-null datetime64[ns]\n",
      "Project Expiration Date    4410413 non-null datetime64[ns]\n",
      "Days Open                  4410413 non-null int32\n",
      "dtypes: datetime64[ns](4), float64(2), int32(1), object(2)\n",
      "memory usage: 286.0+ MB\n"
     ]
    }
   ],
   "source": [
    "proj_don_full = proj_don_df.merge(finished_projects_df[['Project ID', 'Project Posted Date', 'Project Cost','Project Current Status',\n",
    "                                                          'Project End', 'Project Expiration Date', 'Days Open']], on = 'Project ID')\n",
    "proj_don_full = proj_don_full.sort_values(['Project ID', 'Donation Received Date']).reset_index(drop = True)\n",
    "proj_don_full.info(null_counts=True)"
   ]
  },
  {
   "cell_type": "code",
   "execution_count": 12,
   "metadata": {},
   "outputs": [],
   "source": [
    "proj_don_full['Cum Donations'] = proj_don_full['Donation Amount'].fillna(0)\n",
    "proj_groups = proj_don_full.groupby('Project ID')\n",
    "proj_don_full['Cum Donations'] = proj_groups['Cum Donations'].cumsum()"
   ]
  },
  {
   "cell_type": "markdown",
   "metadata": {},
   "source": [
    "#### Calculate features that donors may be using to decide whether to donate: \n",
    "* Days since posting/days until expiry\n",
    "* Percent of asking price that has been donated"
   ]
  },
  {
   "cell_type": "code",
   "execution_count": 13,
   "metadata": {},
   "outputs": [],
   "source": [
    "proj_don_full['Percent Completed'] = proj_don_full['Cum Donations']/proj_don_full['Project Cost']\n",
    "proj_don_full['Percent Completed'] = proj_don_full['Percent Completed'].clip(upper = 1)"
   ]
  },
  {
   "cell_type": "code",
   "execution_count": 14,
   "metadata": {},
   "outputs": [],
   "source": [
    "proj_don_full['Days Since Posting'] = proj_don_full['Donation Received Date'] - proj_don_full['Project Posted Date']\n",
    "proj_don_full['Days Since Posting'] = pd.to_numeric(proj_don_full['Days Since Posting']/np.timedelta64(1, 'D'))\n",
    "proj_don_full['Days Until Expiration'] = pd.to_datetime(proj_don_full['Project Expiration Date']) - proj_don_full['Donation Received Date']\n",
    "proj_don_full['Days Until Expiration'] = pd.to_numeric(proj_don_full['Days Until Expiration']/np.timedelta64(1, 'D'))"
   ]
  },
  {
   "cell_type": "markdown",
   "metadata": {},
   "source": [
    "### Although DonorsChoose projects are supposed to have a limit of 4 months, a small fraction of projects are allowed to stay active for longer\n",
    "* This means that we should normalize 'days since posting' and 'days until expiration' to the total alotted time for each project in order to compare between\n",
    "projects"
   ]
  },
  {
   "cell_type": "code",
   "execution_count": 15,
   "metadata": {},
   "outputs": [],
   "source": [
    "finished_projects_df['Alloted Time'] = pd.to_numeric((finished_projects_df['Project Expiration Date'] - finished_projects_df['Project Posted Date'])/np.timedelta64(1, 'D'))"
   ]
  },
  {
   "cell_type": "code",
   "execution_count": 16,
   "metadata": {},
   "outputs": [
    {
     "data": {
      "text/plain": [
       "Fully Funded    778137\n",
       "Expired         241376\n",
       "Name: Project Current Status, dtype: int64"
      ]
     },
     "execution_count": 16,
     "metadata": {},
     "output_type": "execute_result"
    }
   ],
   "source": [
    "finished_projects_df['Project Current Status'].value_counts()"
   ]
  },
  {
   "cell_type": "code",
   "execution_count": 17,
   "metadata": {},
   "outputs": [
    {
     "data": {
      "text/html": [
       "<div>\n",
       "<style scoped>\n",
       "    .dataframe tbody tr th:only-of-type {\n",
       "        vertical-align: middle;\n",
       "    }\n",
       "\n",
       "    .dataframe tbody tr th {\n",
       "        vertical-align: top;\n",
       "    }\n",
       "\n",
       "    .dataframe thead th {\n",
       "        text-align: right;\n",
       "    }\n",
       "</style>\n",
       "<table border=\"1\" class=\"dataframe\">\n",
       "  <thead>\n",
       "    <tr style=\"text-align: right;\">\n",
       "      <th></th>\n",
       "      <th>Project ID</th>\n",
       "      <th>School ID</th>\n",
       "      <th>Teacher ID</th>\n",
       "      <th>Teacher Project Posted Sequence</th>\n",
       "      <th>Project Type</th>\n",
       "      <th>Project Title</th>\n",
       "      <th>Project Essay</th>\n",
       "      <th>Project Short Description</th>\n",
       "      <th>Project Need Statement</th>\n",
       "      <th>Project Subject Category Tree</th>\n",
       "      <th>Project Subject Subcategory Tree</th>\n",
       "      <th>Project Grade Level Category</th>\n",
       "      <th>Project Resource Category</th>\n",
       "      <th>Project Cost</th>\n",
       "      <th>Project Posted Date</th>\n",
       "      <th>Project Expiration Date</th>\n",
       "      <th>Project Current Status</th>\n",
       "      <th>Project End</th>\n",
       "      <th>Days Open</th>\n",
       "      <th>Alloted Time</th>\n",
       "    </tr>\n",
       "  </thead>\n",
       "  <tbody>\n",
       "  </tbody>\n",
       "</table>\n",
       "</div>"
      ],
      "text/plain": [
       "Empty DataFrame\n",
       "Columns: [Project ID, School ID, Teacher ID, Teacher Project Posted Sequence, Project Type, Project Title, Project Essay, Project Short Description, Project Need Statement, Project Subject Category Tree, Project Subject Subcategory Tree, Project Grade Level Category, Project Resource Category, Project Cost, Project Posted Date, Project Expiration Date, Project Current Status, Project End, Days Open, Alloted Time]\n",
       "Index: []"
      ]
     },
     "execution_count": 17,
     "metadata": {},
     "output_type": "execute_result"
    }
   ],
   "source": [
    "finished_projects_df[finished_projects_df['Alloted Time'].isnull()]"
   ]
  },
  {
   "cell_type": "code",
   "execution_count": 18,
   "metadata": {},
   "outputs": [
    {
     "data": {
      "image/png": "[encoded data removed]",
      "text/plain": [
       "<matplotlib.figure.Figure at 0x1823c76ab70>"
      ]
     },
     "metadata": {},
     "output_type": "display_data"
    }
   ],
   "source": [
    "fig, (ax, ax1, ax2) = plt.subplots(1,3, figsize = (15,4))\n",
    "xrange = np.arange(0,152,1)\n",
    "hist, edges = np.histogram(finished_projects_df['Days Open'], bins = xrange, normed = True)\n",
    "hist1, edges1 = np.histogram(finished_projects_df['Alloted Time'], bins = xrange, normed = True)\n",
    "\n",
    "dx = edges[1] - edges[0]\n",
    "edges = np.concatenate([[0], edges[:-1]])\n",
    "cdf = np.concatenate([[0], np.cumsum(hist)*dx])\n",
    "\n",
    "ax.bar(edges, 1-cdf, width = 1)\n",
    "ax1.bar(edges1[:-1], hist, width = 1)\n",
    "ax2.bar(edges1[:-1], hist1, width = 1, edgecolor = 'C0')\n",
    "\n",
    "ax.set_xlabel('Days active since posting')\n",
    "ax1.set_xlabel('Days active since posting')\n",
    "ax2.set_xlabel('Alloted active days before expiration')\n",
    "\n",
    "ax.set_ylabel('Fraction of projects still active')\n",
    "ax1.set_ylabel('Fraction of projects')\n",
    "ax2.set_ylabel('Fraction of projects')\n",
    "\n",
    "fig.tight_layout()"
   ]
  },
  {
   "cell_type": "code",
   "execution_count": 19,
   "metadata": {},
   "outputs": [],
   "source": [
    "proj_don_full = proj_don_full.merge(finished_projects_df[['Project ID', 'Alloted Time']], on = 'Project ID')\n",
    "proj_don_full['Frac of alloted time elapsed'] = proj_don_full['Days Since Posting']/proj_don_full['Alloted Time']\n",
    "proj_don_full['Frac of alloted time elapsed'] = proj_don_full['Frac of alloted time elapsed'].clip(upper = 1)"
   ]
  },
  {
   "cell_type": "code",
   "execution_count": 20,
   "metadata": {},
   "outputs": [],
   "source": [
    "proj_don_full = proj_don_full.sort_values('Days Open').reset_index(drop = True)\n",
    "proj_grps = proj_don_full.groupby('Project ID', sort = False)"
   ]
  },
  {
   "cell_type": "code",
   "execution_count": 21,
   "metadata": {},
   "outputs": [],
   "source": [
    "mean_don_amount = proj_grps['Donation Amount'].mean().to_frame().reset_index()\n",
    "finished_projects_df = finished_projects_df.merge(mean_don_amount, how = 'left')"
   ]
  },
  {
   "cell_type": "markdown",
   "metadata": {},
   "source": [
    "### Plotting the cumulative donations over asking price for projects that are marked as 'Fully Funded' shows that some donations are missing from the dataset.\n",
    "* This is due to DonorsChoose removing donations that were given by certain organizations that matched donations by employees from the dataset\n",
    "* This means that all of the projects where the cummulative recorded donations equals the asking price are those that did not recieve any matched donations"
   ]
  },
  {
   "cell_type": "code",
   "execution_count": 22,
   "metadata": {},
   "outputs": [],
   "source": [
    "max_cummulative_donations = pd.DataFrame(proj_grps['Cum Donations'].max().reset_index())\n",
    "finished_projects_df = finished_projects_df.merge(max_cummulative_donations, on = 'Project ID')\n",
    "ffunded = finished_projects_df['Project Current Status'] == 'Fully Funded'"
   ]
  },
  {
   "cell_type": "code",
   "execution_count": 23,
   "metadata": {},
   "outputs": [
    {
     "data": {
      "text/plain": [
       "<matplotlib.axes._subplots.AxesSubplot at 0x1823c76a518>"
      ]
     },
     "metadata": {},
     "output_type": "display_data"
    },
    {
     "data": {
      "text/plain": [
       "count    675408.000000\n",
       "mean          0.646612\n",
       "std           0.297712\n",
       "min           0.000030\n",
       "25%           0.484592\n",
       "50%           0.648128\n",
       "75%           0.944885\n",
       "max           2.550013\n",
       "Name: Cum Don/Cost, dtype: float64"
      ]
     },
     "metadata": {},
     "output_type": "display_data"
    },
    {
     "data": {
      "text/plain": [
       "'Fully funded projects that likely have a organization matching donations: 573396'"
      ]
     },
     "execution_count": 23,
     "metadata": {},
     "output_type": "execute_result"
    },
    {
     "data": {
      "image/png": "[encoded data removed]",
      "text/plain": [
       "<matplotlib.figure.Figure at 0x1823c74e860>"
      ]
     },
     "metadata": {},
     "output_type": "display_data"
    }
   ],
   "source": [
    "finished_projects_df['Cum Don/Cost'] = finished_projects_df['Cum Donations']/finished_projects_df['Project Cost']\n",
    "display(finished_projects_df.loc[ffunded,'Cum Don/Cost'].hist(bins = 100))\n",
    "display(finished_projects_df.loc[ffunded,'Cum Don/Cost'].describe())\n",
    "'Fully funded projects that likely have a organization matching donations: '+ str(sum(finished_projects_df.loc[ffunded,'Cum Don/Cost']<1))"
   ]
  },
  {
   "cell_type": "code",
   "execution_count": 24,
   "metadata": {},
   "outputs": [],
   "source": [
    "match = finished_projects_df['Cum Don/Cost'] < 1\n",
    "finished_projects_df.loc[match&ffunded, 'Project Current Status'] = 'Fully Funded(match)'\n",
    "proj_don_full = proj_don_full.merge(finished_projects_df[['Project ID', 'Project Current Status']], on = 'Project ID', how = 'left')\n",
    "proj_don_full = proj_don_full.reset_index(drop = True)"
   ]
  },
  {
   "cell_type": "code",
   "execution_count": 26,
   "metadata": {},
   "outputs": [],
   "source": [
    "edges = np.arange(0,1, 0.01)\n",
    "hists = proj_don_full.groupby('Project ID', sort = False)['Frac of alloted time elapsed'].apply(lambda x: np.histogram(x, bins = edges)).to_frame()\n",
    "hists = hists['Frac of alloted time elapsed'].apply(lambda x: x[0])\n",
    "hists = hists.reset_index().rename(columns = {'Frac of alloted time elapsed':'Donation hist'})\n",
    "finished_projects_df = finished_projects_df.merge(hists, on = 'Project ID', how = 'left')"
   ]
  },
  {
   "cell_type": "code",
   "execution_count": null,
   "metadata": {},
   "outputs": [],
   "source": [
    "finished_projects_df = finished_projects_df.sort_values('Days Open')\n",
    "grped_by_outcome = finished_projects_df.groupby('Project Current Status', sort = False)\n",
    "grped_hists = grped_by_outcome['Donation hist'].apply(lambda x: np.vstack(x.values)).values\n",
    "grped_costs = grped_by_outcome['Project Cost'].apply(lambda x: np.vstack(x.values)).values\n",
    "grped_mean_don = grped_by_outcome['Donation Amount'].apply(lambda x: np.vstack(x.values)).values"
   ]
  },
  {
   "cell_type": "code",
   "execution_count": 51,
   "metadata": {},
   "outputs": [],
   "source": [
    "def plot_rast_hist(hists,costs,mean_don, xlabel):\n",
    "    ratio = np.array([hists[0].shape[0],hists[1].shape[0]])/hists[2].shape[0]\n",
    "    fig, axes =  plt.subplots(4,3, figsize = (12,12), gridspec_kw = {'height_ratios':[ratio[0],ratio[1], 1, (ratio[1]+1)], 'width_ratios':[6,1,3]})\n",
    "    axes[0,0].get_shared_x_axes().join(axes[0,0],axes[1,0],axes[2,0],axes[3,0])\n",
    "    axes[0,1].get_shared_x_axes().join(axes[0,1],axes[1,1],axes[2,1],axes[3,1])\n",
    "    axes[0,2].get_shared_x_axes().join(axes[0,2],axes[1,2],axes[2,2],axes[3,2])\n",
    "\n",
    "    fig.subplots_adjust(wspace = 0.1)\n",
    "    axes[3,1].axis('off')\n",
    "    axes[3,2].axis('off')\n",
    "    \n",
    "    for n, ax,ax1,ax2,group,cost,don in zip([0,1,2],axes[:,0],axes[:,1],axes[:,2], hists, costs, mean_don):\n",
    "        raster = ax.imshow(group, aspect = 'auto', vmax = 5, cmap = 'gist_heat_r')\n",
    "        hist = np.sum(group, axis = 0)\n",
    "        num_dons = np.convolve(np.sum(group, axis = 1), [1/1000]*1000, mode = 'same')\n",
    "        ax1.plot(num_dons,np.arange(0,group.shape[0]))\n",
    "        ax1.fill_betweenx(np.arange(0, len(num_dons),1), num_dons, color = 'C0', alpha = 0.5)\n",
    "        cost = np.convolve(cost.ravel(), [1/1000]*1000, mode = 'same')\n",
    "        ax2.plot(cost, np.arange(0, len(cost),1), color = 'C2', alpha = 0.2)\n",
    "        ax2.fill_betweenx(np.arange(0, len(cost),1), cost, color = 'C2', alpha = 0.5)\n",
    "        don = np.convolve(don.ravel(), [1/1000]*1000, mode = 'same')\n",
    "        ax2.plot(don, np.arange(0, len(don),1), color = 'C2', alpha = 0.5)\n",
    "        ax2.fill_betweenx(np.arange(0, len(don),1), don, color = 'C2', alpha = 0.5)\n",
    "        \n",
    "        ax1.set_ylim(len(num_dons), 0)\n",
    "        if np.max(num_dons) > ax1.get_xlim()[1]:\n",
    "            ax1.set_xlim(0, np.max(num_dons))\n",
    "        if np.max(cost) > ax2.get_xlim()[1]:\n",
    "            ax2.set_xlim(0, np.max(cost))\n",
    "        ax2.set_xlim(0, 2000)\n",
    "\n",
    "#         if n == 2:\n",
    "# #             ax2.plot(num_dons*don, np.arange(0, len(don),1), color ='k')\n",
    "        ax2.set_ylim(len(cost), 0)\n",
    "        \n",
    "        ax1.axes.get_yaxis().set_visible(False)\n",
    "        ax2.axes.get_yaxis().set_visible(False)\n",
    "        [ax.spines[side].set_visible(False) for side in ['right', 'top']]\n",
    "        [ax1.spines[side].set_visible(False) for side in ['right', 'top', 'left']]\n",
    "        [ax2.spines[side].set_visible(False) for side in ['right', 'top', 'left']]\n",
    "\n",
    "        axes[3,0].plot(hist/np.sum(hist))\n",
    "        \n",
    "    [axes[3, 0].spines[side].set_visible(False) for side in ['right', 'top']]\n",
    "    axes[3, 0].set_xlim(0, 100)\n",
    "    axes[3, 0].set_xlabel(xlabel)\n",
    "    \n",
    "    axes[0, 0].set_ylabel('Project num \\n(fully fund. \\nw match)')\n",
    "    axes[1, 0].set_ylabel('Project num \\n(fully fund. \\nw/o match)')\n",
    "    axes[2, 0].set_ylabel('Project num \\n(expired)')\n",
    "    axes[3, 0].set_ylabel('Fraction of \\ndonations')\n",
    "    axes[3, 0].text(0.5,0.7, 'Fully funded with match', color = 'C0', transform=axes[3, 0].transAxes)\n",
    "    axes[3, 0].text(0.5,0.58, 'Fully funded without match', color = 'C1', transform=axes[3, 0].transAxes)\n",
    "    axes[3, 0].text(0.5,0.46, 'Expired', color = 'C2', transform=axes[3, 0].transAxes)\n",
    "    \n",
    "    axes[0, 1].text(.9,0.85, 'Total number of citizen donations', color = 'C0', transform=axes[0, 1].transAxes, rotation = 270, va = 'top')\n",
    "    axes[0, 2].text(.72,0.85, 'Average donation amount ($)', color = 'C2', transform=axes[0, 2].transAxes, rotation = 270, va = 'top')\n",
    "    axes[0, 2].text(0.8,0.85, 'Project cost ($)', color = 'C2', alpha = 0.7, transform=axes[0, 2].transAxes, rotation = 270, va = 'top')\n",
    "\n",
    "    cbaxes = fig.add_axes([.35, .85, 0.1, 0.01])  # This is the position for the colorbar\n",
    "    cb = plt.colorbar(raster, cax = cbaxes, label = 'Number of citizen donations', orientation = 'horizontal')\n",
    "    \n",
    "    return fig"
   ]
  },
  {
   "cell_type": "code",
   "execution_count": 52,
   "metadata": {},
   "outputs": [
    {
     "data": {
      "image/png": "[encoded data removed]",
      "text/plain": [
       "<matplotlib.figure.Figure at 0x182fa2f26a0>"
      ]
     },
     "metadata": {},
     "output_type": "display_data"
    }
   ],
   "source": [
    "idx = [1,0,2]\n",
    "fig = plot_rast_hist(grped_hists[idx], grped_costs[idx],grped_mean_don[idx], 'Frac of alloted time elapsed');"
   ]
  },
  {
   "cell_type": "code",
   "execution_count": null,
   "metadata": {},
   "outputs": [],
   "source": [
    "fig.savefig('Donations.pdf', format = 'pdf')"
   ]
  },
  {
   "cell_type": "code",
   "execution_count": null,
   "metadata": {},
   "outputs": [],
   "source": [
    "fig = plot_rast_hist(funded_hist_match, funded_hist_no_match, expired_hist,'Frac of alloted time elapsed');"
   ]
  },
  {
   "cell_type": "code",
   "execution_count": null,
   "metadata": {},
   "outputs": [],
   "source": [
    "plot_rast_hist(funded_hist_match, funded_hist_no_match, expired ,'Frac of alloted time elapsed');"
   ]
  },
  {
   "cell_type": "code",
   "execution_count": null,
   "metadata": {},
   "outputs": [],
   "source": [
    "proj_don_full[days_donated].sort_values(['Project ID', 'Date'])"
   ]
  },
  {
   "cell_type": "code",
   "execution_count": null,
   "metadata": {},
   "outputs": [],
   "source": [
    "ratio = np.array([funded_hist_match.shape[0],funded_hist_no_match.shape[0]])/expired_hist.shape[0]\n",
    "fig, (ax1,ax2,ax3,ax4) = plt.subplots(4,1, figsize = (6,10), gridspec_kw = {'height_ratios':[ratio[0],ratio[1], 1, (ratio[1]+1)]}, sharex = True)\n",
    "all_hists = np.vstack([funded_hist_match,funded_hist_no_match, expired_hist])\n",
    "\n",
    "raster = ax1.imshow(funded_hist_match, aspect = 'auto', vmax = 5, cmap = 'gist_heat_r')\n",
    "raster1 = ax2.imshow(funded_hist_no_match, aspect = 'auto', vmax = 5, cmap = 'gist_heat_r')\n",
    "raster2 = ax3.imshow(expired_hist, aspect = 'auto', vmax = 5, cmap = 'gist_heat_r')\n",
    "\n",
    "hist = np.sum(funded_hist_match, axis = 0)\n",
    "hist1 = np.sum(funded_hist_no_match, axis = 0)\n",
    "hist2 = np.sum(expired_hist, axis = 0)\n",
    "\n",
    "ax4.plot(hist/np.sum(hist))\n",
    "ax4.plot(hist1/np.sum(hist1))\n",
    "ax4.plot(hist2/np.sum(hist2))\n",
    "\n",
    "ax3.set_xlim(0, 100)\n",
    "ax3.set_xlabel('Fraction elapsed active time')\n",
    "for ax in [ax1,ax2,ax3,ax4]:\n",
    "    ax.spines['right'].set_visible(False)\n",
    "    ax.spines['top'].set_visible(False)\n",
    "    \n",
    "ax1.set_ylabel('Project number \\n(fully funded with match)')\n",
    "ax2.set_ylabel('Project number \\n(fully funded without match)')\n",
    "ax3.set_ylabel('Project number \\n(expired)')\n",
    "ax3.set_ylabel('Fraction of donations')\n",
    "ax4.text(0.7,0.7, 'Fully funded with match', color = 'C0', transform=ax4.transAxes)\n",
    "ax4.text(0.7,0.60, 'Fully funded without match', color = 'C1', transform=ax4.transAxes)\n",
    "ax4.text(0.7,0.50, 'Expired', color = 'C2', transform=ax4.transAxes)\n",
    "\n"
   ]
  },
  {
   "cell_type": "code",
   "execution_count": null,
   "metadata": {},
   "outputs": [],
   "source": [
    "xrange = np.arange(0,1,0.025)\n",
    "yrange = np.arange(0,1,0.025)\n",
    "\n",
    "ffunded = proj_don_full['Project Current Status'].str.contains('Fully Funded')\n",
    "exp = proj_don_full['Project Current Status'].str.contains('Expired')\n",
    "\n",
    "hist_ffunded, xedges, yedges = np.histogram2d(proj_don_full.loc[days_donated&ffunded, 'Percent Completed'], \n",
    "                                      proj_don_full.loc[days_donated&ffunded, 'Frac of alloted time elapsed'], bins = (xrange,yrange), normed = True)\n",
    "\n",
    "hist_exp, xedges, yedges = np.histogram2d(proj_don_full.loc[days_donated&exp, 'Percent Completed'], \n",
    "                                      proj_don_full.loc[days_donated&exp, 'Frac of alloted time elapsed'], bins = (xrange,yrange), normed = True)\n",
    "\n",
    "hist_ffunded = hist_ffunded[::-1,:]\n",
    "hist_exp = hist_exp[::-1,:]"
   ]
  },
  {
   "cell_type": "code",
   "execution_count": null,
   "metadata": {},
   "outputs": [],
   "source": [
    "fig, (ax1, ax2) = plt.subplots(1,2, figsize = (12,6))\n",
    "heatmap1 = ax1.imshow(hist_ffunded, extent = [xedges[0], xedges[-1], yedges[0], yedges[-1]], aspect = 'auto', vmin = 0, cmap = 'inferno')\n",
    "clim = heatmap1.get_clim()\n",
    "heatmap2 = ax2.imshow(hist_exp, extent = [xedges[0], xedges[-1], yedges[0], yedges[-1]], aspect = 'auto', vmin = 0, vmax = clim[1], cmap = 'inferno')\n",
    "\n",
    "cbaxes = fig.add_axes([.95, 0.12, 0.03, 0.76])  # This is the position for the colorbar\n",
    "cb = plt.colorbar(heatmap2, cax = cbaxes, label = 'Fraction of all donations')\n",
    "ax1.set_xlabel('Fraction of alloted time elapsed');\n",
    "ax1.set_ylabel('Fraction of funding already donated');"
   ]
  },
  {
   "cell_type": "code",
   "execution_count": null,
   "metadata": {},
   "outputs": [],
   "source": [
    "proj_don_full['Frac of total price'] = proj_don_full['Donation Amount']/proj_don_full['Project Cost']\n",
    "proj_don_full['Frac of total price'].hist(bins = 100)"
   ]
  },
  {
   "cell_type": "code",
   "execution_count": null,
   "metadata": {},
   "outputs": [],
   "source": [
    "fig, ax = plt.subplots(1,1, figsize = (8,5))\n",
    "\n",
    "for grp in ['Fully Funded', 'Expired']:\n",
    "    ff_num_donations = num_donations.unstack()[grp]\n",
    "    hist, edges = np.histogram(ff_num_donations[~ff_num_donations.isnull()], normed = True, bins = 250)\n",
    "    dx = edges[1] - edges[0]\n",
    "    edges = np.concatenate([[0], edges[:-1]])\n",
    "    cdf = np.concatenate([[0], np.cumsum(hist)*dx])\n",
    "    ax.plot(edges,cdf)\n",
    "ax.set_xlim(0,30)\n",
    "ax.set_ylim(0,1)"
   ]
  },
  {
   "cell_type": "markdown",
   "metadata": {},
   "source": [
    "# Conclusions: \n",
    "* Reject initial hypothesis. There is no obvious relationship between 'duration the project has been active', 'fraction of requested price that has already beed donated', and 'likelyhood of donations'\n",
    "\n",
    "\n",
    "* There seems to be two phases of funding relating to the duration that a project has been active: An initial burst of funding after posting that might be due to being more visible in search results. A second phase where funding is recieved at a much slower but generally constant rate\n",
    "\n",
    "\n",
    "* Meanwhile, there is a relatively constant negative correlation between how much funding a project has already recieved and the probability of recieving a new donation\n",
    "    * There are a few spikes in funding when projects are either halfway funded or close to being fully funded. This is may be due to DonorsChoose actively encouraging donations to projects that are nearing these milestones\n",
    "\n",
    "\n"
   ]
  },
  {
   "cell_type": "markdown",
   "metadata": {},
   "source": [
    "# missing donation rows???\n",
    "### Organizations would match donations made by individuals - these match donations were removed from donations table!\n",
    "### this means that those projects that actually reach 100% funding in this dataset are those that did not receive any match donations\n",
    "### can look at how fast those that do not recieve match donations and those that do get funded\n",
    "### can also exclude projects that have match donations"
   ]
  },
  {
   "cell_type": "code",
   "execution_count": null,
   "metadata": {},
   "outputs": [],
   "source": []
  }
 ],
 "metadata": {
  "kernelspec": {
   "display_name": "Python 3",
   "language": "python",
   "name": "python3"
  },
  "language_info": {
   "codemirror_mode": {
    "name": "ipython",
    "version": 3
   },
   "file_extension": ".py",
   "mimetype": "text/x-python",
   "name": "python",
   "nbconvert_exporter": "python",
   "pygments_lexer": "ipython3",
   "version": "3.6.4"
  }
 },
 "nbformat": 4,
 "nbformat_minor": 2
}
